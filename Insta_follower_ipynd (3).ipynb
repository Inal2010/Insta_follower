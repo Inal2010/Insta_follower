{
  "nbformat": 4,
  "nbformat_minor": 0,
  "metadata": {
    "colab": {
      "name": "Insta_follower.ipynd",
      "provenance": [],
      "collapsed_sections": []
    },
    "kernelspec": {
      "name": "python3",
      "display_name": "Python 3"
    }
  },
  "cells": [
    {
      "cell_type": "code",
      "metadata": {
        "id": "3Y37r5YzZ7n5",
        "colab": {
          "base_uri": "https://localhost:8080/"
        },
        "outputId": "51fed25c-91de-40dc-fa88-e30e4f48e36d"
      },
      "source": [
        "from google.colab import drive\n",
        "drive.mount('/content/gdrive', force_remount=True)\n",
        "path = \"/content/gdrive/My Drive/COLAB_INAL/HOMEWORKS/insta_follower.csv\""
      ],
      "execution_count": 27,
      "outputs": [
        {
          "output_type": "stream",
          "text": [
            "Mounted at /content/gdrive\n"
          ],
          "name": "stdout"
        }
      ]
    },
    {
      "cell_type": "code",
      "metadata": {
        "id": "VPPqV9noad48"
      },
      "source": [
        ""
      ],
      "execution_count": 14,
      "outputs": []
    },
    {
      "cell_type": "code",
      "metadata": {
        "id": "kdQSMQ00cnD3"
      },
      "source": [
        ""
      ],
      "execution_count": 21,
      "outputs": []
    },
    {
      "cell_type": "code",
      "metadata": {
        "id": "_JHAB7ULcnIX",
        "colab": {
          "base_uri": "https://localhost:8080/"
        },
        "outputId": "fdaf60f3-19b6-414f-b621-13e60882e28d"
      },
      "source": [
        "with open(path, \"r\") as f:\n",
        "  segments = f.readlines() # list of strings\n",
        "\n",
        "dict_inst = {}\n",
        "for i in range(len(segments[0].split(\",\"))):\n",
        "  dict_inst[i] = []\n",
        "\n",
        "for line in segments[1:]:\n",
        "  for i in dict_inst:\n",
        "    a = line.split(\",\")[i]\n",
        "    if a != \"\" and a != \"\\n\" and a != \"\\t\" and a != \" \":\n",
        "      dict_inst[i].append(a)\n",
        "names = []\n",
        "for i in range(len(dict_inst.values())): #0 1 2 3 ... 37\n",
        "  names += dict_inst[i]\n",
        "names_set = set(names)\n",
        "dict_followers = {name:names.count(name) for name in names_set}# dictionary comprehension\n",
        "common_names = sorted(dict_followers, key = dict_followers.get, reverse = True)\n",
        "top_10 = common_names[2:22] #keep the account Elan and elan_coding\n",
        "d = {}\n",
        "for i in top_10:\n",
        "    d[i] = dict_followers[i]\n",
        "print(d)\n"
      ],
      "execution_count": 35,
      "outputs": [
        {
          "output_type": "stream",
          "text": [
            "{'patriot_kbr': 21, 'ПАТРИОТ КАБАРДИНО-БАЛКАРИИ🌀': 21, '\"ЧП / Нальчик ': 17, ' КБР 🔞\"': 16, 'Казбек Коков': 15, 'kokov_kazbek_': 15, 'Новости Нальчика': 13, 'nalchiknews': 13, 'chp.nalchik': 11, 'kanokov_arsen': 9, 'Арсен Каноков': 9, 'Залина': 9, 'Оперативный штаб КБР': 9, 'koronavirus_shtabkbr07': 9, 'murat.altuev': 8, 'Мурат Алтуев': 8, 'Ресторан Глянец Кофейня Кекс': 7, 'ДИРЕКТ КБР️': 7, 'kbrminzdrav': 7, 'marina_glyanec': 7}\n"
          ],
          "name": "stdout"
        }
      ]
    },
    {
      "cell_type": "code",
      "metadata": {
        "id": "DGkH2outOcW6"
      },
      "source": [
        "text = \"\"\n",
        "for i,j in d.items():\n",
        "  text += i + \" - \" + str(j) + \"\\n\""
      ],
      "execution_count": 36,
      "outputs": []
    },
    {
      "cell_type": "code",
      "metadata": {
        "id": "j_5TBuso5oej"
      },
      "source": [
        "path_report = \"/content/gdrive/My Drive/COLAB_INAL/CLASS_WORKS/report_insta.txt\" "
      ],
      "execution_count": 37,
      "outputs": []
    },
    {
      "cell_type": "code",
      "metadata": {
        "id": "Q6zf1ZPY7Eu8"
      },
      "source": [
        "with open(path_report, \"w\") as f:\n",
        "  segments = f.write(str(text))"
      ],
      "execution_count": 38,
      "outputs": []
    },
    {
      "cell_type": "code",
      "metadata": {
        "id": "ggkZKW0r6_ir"
      },
      "source": [
        ""
      ],
      "execution_count": 34,
      "outputs": []
    },
    {
      "cell_type": "code",
      "metadata": {
        "id": "xfpjADaxjx3o"
      },
      "source": [
        ""
      ],
      "execution_count": 15,
      "outputs": []
    },
    {
      "cell_type": "code",
      "metadata": {
        "id": "Xcts2ltz5mnq"
      },
      "source": [
        ""
      ],
      "execution_count": null,
      "outputs": []
    },
    {
      "cell_type": "code",
      "metadata": {
        "id": "K_LPp1yIWhML"
      },
      "source": [
        ""
      ],
      "execution_count": 7,
      "outputs": []
    },
    {
      "cell_type": "code",
      "metadata": {
        "id": "b5BgESym5las"
      },
      "source": [
        ""
      ],
      "execution_count": 15,
      "outputs": []
    },
    {
      "cell_type": "code",
      "metadata": {
        "id": "U34d38zEZqim"
      },
      "source": [
        ""
      ],
      "execution_count": 15,
      "outputs": []
    },
    {
      "cell_type": "code",
      "metadata": {
        "id": "qD54YneYZyER"
      },
      "source": [
        ""
      ],
      "execution_count": 15,
      "outputs": []
    },
    {
      "cell_type": "code",
      "metadata": {
        "id": "JH2ZdCERZyHW"
      },
      "source": [
        ""
      ],
      "execution_count": 15,
      "outputs": []
    },
    {
      "cell_type": "code",
      "metadata": {
        "id": "YGJEn_JfZyKT"
      },
      "source": [
        ""
      ],
      "execution_count": null,
      "outputs": []
    },
    {
      "cell_type": "code",
      "metadata": {
        "id": "_MrO3uZpZyNV"
      },
      "source": [
        ""
      ],
      "execution_count": null,
      "outputs": []
    },
    {
      "cell_type": "code",
      "metadata": {
        "id": "vO0kt-OsZyQA"
      },
      "source": [
        ""
      ],
      "execution_count": null,
      "outputs": []
    },
    {
      "cell_type": "code",
      "metadata": {
        "id": "6rDuMLJRZyTE"
      },
      "source": [
        ""
      ],
      "execution_count": null,
      "outputs": []
    },
    {
      "cell_type": "code",
      "metadata": {
        "id": "xBEjiRqkZyWZ"
      },
      "source": [
        ""
      ],
      "execution_count": null,
      "outputs": []
    },
    {
      "cell_type": "code",
      "metadata": {
        "id": "8cyMMd79ZyZk"
      },
      "source": [
        ""
      ],
      "execution_count": null,
      "outputs": []
    },
    {
      "cell_type": "code",
      "metadata": {
        "id": "V8s8HqPlZycJ"
      },
      "source": [
        ""
      ],
      "execution_count": null,
      "outputs": []
    },
    {
      "cell_type": "code",
      "metadata": {
        "id": "3g5mJn3mZye7"
      },
      "source": [
        ""
      ],
      "execution_count": null,
      "outputs": []
    },
    {
      "cell_type": "code",
      "metadata": {
        "id": "n4Ahmr2FZyhX"
      },
      "source": [
        ""
      ],
      "execution_count": null,
      "outputs": []
    }
  ]
}