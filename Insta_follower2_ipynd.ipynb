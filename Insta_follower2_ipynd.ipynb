{
  "nbformat": 4,
  "nbformat_minor": 0,
  "metadata": {
    "colab": {
      "name": "Insta_follower2.ipynd",
      "provenance": [],
      "collapsed_sections": []
    },
    "kernelspec": {
      "name": "python3",
      "display_name": "Python 3"
    }
  },
  "cells": [
    {
      "cell_type": "code",
      "metadata": {
        "id": "3Y37r5YzZ7n5",
        "colab": {
          "base_uri": "https://localhost:8080/"
        },
        "outputId": "f2757a9d-84b0-420c-9eca-3a83bc0f23f8"
      },
      "source": [
        "from google.colab import drive\n",
        "drive.mount('/content/gdrive', force_remount=True)# мы активируем колаб для файлов - we activate the file collab\n",
        "path = \"/content/gdrive/My Drive/COLAB_INAL/HOMEWORKS/insta_follower.csv\"# а сдесь его саздаем - and here we create it"
      ],
      "execution_count": 1,
      "outputs": [
        {
          "output_type": "stream",
          "text": [
            "Mounted at /content/gdrive\n"
          ],
          "name": "stdout"
        }
      ]
    },
    {
      "cell_type": "code",
      "metadata": {
        "id": "VPPqV9noad48"
      },
      "source": [
        ""
      ],
      "execution_count": null,
      "outputs": []
    },
    {
      "cell_type": "code",
      "metadata": {
        "id": "kdQSMQ00cnD3"
      },
      "source": [
        ""
      ],
      "execution_count": null,
      "outputs": []
    },
    {
      "cell_type": "code",
      "metadata": {
        "id": "_JHAB7ULcnIX",
        "colab": {
          "base_uri": "https://localhost:8080/"
        },
        "outputId": "f0c4dac1-cd0f-4204-ce5f-53e02c0b1603"
      },
      "source": [
        "with open(path, \"r\") as f:#сдесь его открываем - here we tear it away\n",
        "  segments = f.readlines() # list of strings\n",
        "\n",
        "dict_inst = {}#тут создаем словарь - here we create a dictionary\n",
        "for i in range(len(segments[0].split(\",\"))):#проходимся по длине segments которая сплитится по запятой - we go along the length of segments which will be split by comma\n",
        "  dict_inst[i] = []#сдесь мы передаем значение и dict_inst[i] пресваиваем зночение список - Here we pass the value and dict_inst [i] assign the value to the list\n",
        "\n",
        "for line in segments[1:]:#проходимся по segments от первого элемента - traversing segments from the first element\n",
        "  for i in dict_inst:#проходимся по словарю - go through the dictionary\n",
        "    a = line.split(\",\")[i]#сдесь сплитим итератор по segmentsб по запятой - here split iterator over segments by comma\n",
        "    if a != \"\" and a != \"\\n\" and a != \"\\t\" and a != \" \":#и бывают пустые строки всякие и поэтому делаем if - and there are all sorts of empty lines and therefore we do if\n",
        "      dict_inst[i].append(a)#потом дабовляем dict_inst с ключом i - then add dict_inst with key i\n",
        "names = []#создаем список names - create a names list\n",
        "for i in range(len(dict_inst.values())): #0 1 2 3 ... 37\n",
        "  names += dict_inst[i]#прибавляем dict_inst с ключом i каждый раз - add dict_inst with key i every time\n",
        "names_set = set(names)#делаем список names сетом это тип данных в который удаляут все повторения - make the names list a set, this is a data type to which all repetitions will be removed\n",
        "dict_followers = {name:names.count(name) for name in names_set}# dictionary comprehension\n",
        "common_names = sorted(dict_followers, key = dict_followers.get, reverse = True)#сортеруем и гаходим топ 10 - sorting and closing the top 10\n",
        "top_10 = common_names[2:22] #keep the account Elan and elan_coding\n",
        "d = {}#создаем словарь d - create dictionary d\n",
        "for i in top_10:#проходимся по top_10 - go through top_10 \n",
        "    d[i] = dict_followers[i]#d с ключом i = dict_followers с ключом i - d with key i = dict_followers with key i\n",
        "print(d)#и печатоем словарь (топ 10) - and print a dictionary (top 10)\n"
      ],
      "execution_count": 6,
      "outputs": [
        {
          "output_type": "stream",
          "text": [
            "{'patriot_kbr': 21, 'ПАТРИОТ КАБАРДИНО-БАЛКАРИИ🌀': 21, '\"ЧП / Нальчик ': 17, ' КБР 🔞\"': 16, 'kokov_kazbek_': 15, 'Казбек Коков': 15, 'nalchiknews': 13, 'Новости Нальчика': 13, 'chp.nalchik': 11, 'koronavirus_shtabkbr07': 9, 'kanokov_arsen': 9, 'Арсен Каноков': 9, 'Оперативный штаб КБР': 9, 'Залина': 9, 'murat.altuev': 8, 'Мурат Алтуев': 8, 'direct_kbr': 7, 'Ресторан Глянец Кофейня Кекс': 7, 'ПОРТАЛ КАБАРДИНО-БАЛКАРИИ': 7, 'kbrminzdrav': 7}\n"
          ],
          "name": "stdout"
        }
      ]
    },
    {
      "cell_type": "code",
      "metadata": {
        "id": "DGkH2outOcW6"
      },
      "source": [
        "text = \"\"#создаем строку text\n",
        "for i,j in d.items():#проходимся по нему (с двумя итераторами) и делаем словарь d.items() - create a string text\n",
        "  text += i + \" - \" + str(j) + \"\\n\"#эта строка для того чтобы сделать файл report_insta.txt более аккуратным - this line to make the report_insta.txt file neater"
      ],
      "execution_count": 3,
      "outputs": []
    },
    {
      "cell_type": "code",
      "metadata": {
        "id": "j_5TBuso5oej"
      },
      "source": [
        "path_report = \"/content/gdrive/My Drive/COLAB_INAL/CLASS_WORKS/report_insta.txt\" #делаем path и создаем файл report_insta.txt - make path and create report_insta.txt file"
      ],
      "execution_count": 4,
      "outputs": []
    },
    {
      "cell_type": "code",
      "metadata": {
        "id": "Q6zf1ZPY7Eu8"
      },
      "source": [
        "with open(path_report, \"w\") as f:#открываем файл - open the file\n",
        "  segments = f.write(str(text))#и записываем в него строку text - and write the string text into it"
      ],
      "execution_count": 5,
      "outputs": []
    },
    {
      "cell_type": "code",
      "metadata": {
        "id": "ggkZKW0r6_ir"
      },
      "source": [
        ""
      ],
      "execution_count": null,
      "outputs": []
    },
    {
      "cell_type": "code",
      "metadata": {
        "id": "xfpjADaxjx3o"
      },
      "source": [
        ""
      ],
      "execution_count": null,
      "outputs": []
    },
    {
      "cell_type": "code",
      "metadata": {
        "id": "Xcts2ltz5mnq"
      },
      "source": [
        ""
      ],
      "execution_count": null,
      "outputs": []
    },
    {
      "cell_type": "code",
      "metadata": {
        "id": "K_LPp1yIWhML"
      },
      "source": [
        ""
      ],
      "execution_count": null,
      "outputs": []
    },
    {
      "cell_type": "code",
      "metadata": {
        "id": "b5BgESym5las"
      },
      "source": [
        ""
      ],
      "execution_count": null,
      "outputs": []
    },
    {
      "cell_type": "code",
      "metadata": {
        "id": "U34d38zEZqim"
      },
      "source": [
        ""
      ],
      "execution_count": null,
      "outputs": []
    },
    {
      "cell_type": "code",
      "metadata": {
        "id": "qD54YneYZyER"
      },
      "source": [
        ""
      ],
      "execution_count": null,
      "outputs": []
    },
    {
      "cell_type": "code",
      "metadata": {
        "id": "JH2ZdCERZyHW"
      },
      "source": [
        ""
      ],
      "execution_count": null,
      "outputs": []
    },
    {
      "cell_type": "code",
      "metadata": {
        "id": "YGJEn_JfZyKT"
      },
      "source": [
        ""
      ],
      "execution_count": null,
      "outputs": []
    },
    {
      "cell_type": "code",
      "metadata": {
        "id": "_MrO3uZpZyNV"
      },
      "source": [
        ""
      ],
      "execution_count": null,
      "outputs": []
    },
    {
      "cell_type": "code",
      "metadata": {
        "id": "vO0kt-OsZyQA"
      },
      "source": [
        ""
      ],
      "execution_count": null,
      "outputs": []
    },
    {
      "cell_type": "code",
      "metadata": {
        "id": "6rDuMLJRZyTE"
      },
      "source": [
        ""
      ],
      "execution_count": null,
      "outputs": []
    },
    {
      "cell_type": "code",
      "metadata": {
        "id": "xBEjiRqkZyWZ"
      },
      "source": [
        ""
      ],
      "execution_count": null,
      "outputs": []
    },
    {
      "cell_type": "code",
      "metadata": {
        "id": "8cyMMd79ZyZk"
      },
      "source": [
        ""
      ],
      "execution_count": null,
      "outputs": []
    },
    {
      "cell_type": "code",
      "metadata": {
        "id": "V8s8HqPlZycJ"
      },
      "source": [
        ""
      ],
      "execution_count": null,
      "outputs": []
    },
    {
      "cell_type": "code",
      "metadata": {
        "id": "3g5mJn3mZye7"
      },
      "source": [
        ""
      ],
      "execution_count": null,
      "outputs": []
    },
    {
      "cell_type": "code",
      "metadata": {
        "id": "n4Ahmr2FZyhX"
      },
      "source": [
        ""
      ],
      "execution_count": null,
      "outputs": []
    }
  ]
}